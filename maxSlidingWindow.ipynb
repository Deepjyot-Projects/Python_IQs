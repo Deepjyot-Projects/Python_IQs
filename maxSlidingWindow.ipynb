{
  "nbformat": 4,
  "nbformat_minor": 0,
  "metadata": {
    "colab": {
      "provenance": [],
      "authorship_tag": "ABX9TyME80YrgDoaNuStFOtUj7Pe",
      "include_colab_link": true
    },
    "kernelspec": {
      "name": "python3",
      "display_name": "Python 3"
    },
    "language_info": {
      "name": "python"
    }
  },
  "cells": [
    {
      "cell_type": "markdown",
      "metadata": {
        "id": "view-in-github",
        "colab_type": "text"
      },
      "source": [
        "<a href=\"https://colab.research.google.com/github/Deepjyot-Projects/Python_IQs/blob/main/maxSlidingWindow.ipynb\" target=\"_parent\"><img src=\"https://colab.research.google.com/assets/colab-badge.svg\" alt=\"Open In Colab\"/></a>"
      ]
    },
    {
      "cell_type": "code",
      "execution_count": null,
      "metadata": {
        "id": "S2Xw8loFx4kh"
      },
      "outputs": [],
      "source": []
    },
    {
      "cell_type": "markdown",
      "source": [
        "Given an array and an integer A, find the maximum for each contiguous subarray of size A.\n",
        "\n",
        "\n",
        "    \n",
        "    \n",
        "    \n",
        "    \n",
        "Input: array = [1, 2, 3, 1, 4, 5, 2, 3, 6], A = 3\n",
        "    \n",
        "\n",
        "    \n",
        "    \n",
        "\n",
        "Output: 3 3 4 5 5 5 6\n",
        "    \n",
        "\n",
        "\n",
        "    \n",
        "\n",
        "    \n",
        "Below is a more detailed walkthrough of what you should be trying to code, using the example above:\n",
        "\n",
        "\n",
        "    \n",
        "\n",
        "    \n",
        "subarray 1 = [1, 2, 3, 1, 4, 5, 2, 3, 6]\n",
        "\n",
        "    \n",
        "maximum of subarray 1 = 3\n",
        "\n",
        "    \n",
        "subarray 2 = [1, 2, 3, 1, 4, 5, 2, 3, 6]\n",
        "\n",
        "    \n",
        "maximum of subarray 2 = 3\n",
        "\n",
        "    \n",
        "subarray 3 = [1, 2, 3, 1, 4, 5, 2, 3, 6]\n",
        "\n",
        "    \n",
        "maximum of subarray 3 = 4"
      ],
      "metadata": {
        "id": "8vFPA2cOx-08"
      }
    },
    {
      "cell_type": "code",
      "source": [
        "class Solution:\n",
        "    def maxSlidingWindow(self, nums: List[int], k: int) -> List[int]:\n",
        "        dq = deque()\n",
        "        res = []\n",
        "        for i in range(len(nums)):\n",
        "            if dq and i-dq[0] >= k:\n",
        "                dq.popleft()\n",
        "\n",
        "            while dq and nums[dq[-1]] <= nums[i]:\n",
        "                dq.pop()\n",
        "\n",
        "            dq.append(i)\n",
        "\n",
        "            if i-k>=-1:\n",
        "                res.append(nums[dq[0] ])\n",
        "\n",
        "        return res"
      ],
      "metadata": {
        "id": "MVTeNgX5x7rp"
      },
      "execution_count": null,
      "outputs": []
    }
  ]
}