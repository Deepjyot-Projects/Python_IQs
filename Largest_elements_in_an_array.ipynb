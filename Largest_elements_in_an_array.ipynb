{
  "nbformat": 4,
  "nbformat_minor": 0,
  "metadata": {
    "colab": {
      "provenance": [],
      "authorship_tag": "ABX9TyMeAAkCGvamCJH+P4LYT8gD",
      "include_colab_link": true
    },
    "kernelspec": {
      "name": "python3",
      "display_name": "Python 3"
    },
    "language_info": {
      "name": "python"
    }
  },
  "cells": [
    {
      "cell_type": "markdown",
      "metadata": {
        "id": "view-in-github",
        "colab_type": "text"
      },
      "source": [
        "<a href=\"https://colab.research.google.com/github/Deepjyot-Projects/Python_IQs/blob/main/Largest_elements_in_an_array.ipynb\" target=\"_parent\"><img src=\"https://colab.research.google.com/assets/colab-badge.svg\" alt=\"Open In Colab\"/></a>"
      ]
    },
    {
      "cell_type": "markdown",
      "source": [
        "Given an array with k distinct elements, write a function to return all elements that have at least two elements greater than themselves in the same array:\n",
        "\n",
        "\n",
        "    \n",
        "For example:\n",
        "\n",
        "\n",
        "    \n",
        "    \n",
        "#Given the following:\n",
        "    \n",
        "\n",
        "array = [2,3,9,7,6]\n",
        "    \n",
        "\n",
        "\n",
        "    \n",
        "\n",
        "#Your function should return:\n",
        "    \n",
        "\n",
        "[2,3,6]"
      ],
      "metadata": {
        "id": "FOR-Gm2BFmpa"
      }
    },
    {
      "cell_type": "code",
      "source": [
        "# Sorting based Python 3 program\n",
        "# to find all elements in array\n",
        "# which have atleast two greater\n",
        "# elements itself.\n",
        "\n",
        "def findElements(arr, n):\n",
        "\n",
        "\tarr.sort()\n",
        "\n",
        "\tfor i in range(0, n-2):\n",
        "\t\tprint(arr[i], end =\" \")\n",
        "\n",
        "# Driven source\n",
        "arr = [2, -6, 3, 5, 1]\n",
        "n = len(arr)\n",
        "findElements(arr, n)\n",
        "\n",
        "\n",
        "\n",
        "# the above is pretty easy O(NLOGN)\n",
        "\n",
        "\n",
        "# but hey wait: is there some better solution:\n",
        "\n",
        "\n",
        "# Python3 program to find all elements\n",
        "# in array which have atleast two\n",
        "# greater elements itself.\n",
        "import sys\n",
        "\n",
        "def findElements(arr, n):\n",
        "\n",
        "\tfirst = -sys.maxsize\n",
        "\tsecond = -sys.maxsize\n",
        "\n",
        "\tfor i in range(0, n):\n",
        "\n",
        "\t\t# If current element is smaller\n",
        "\t\t# than first then update both\n",
        "\t\t# first and second\n",
        "\t\tif (arr[i] > first):\n",
        "\n",
        "\t\t\tsecond = first\n",
        "\t\t\tfirst = arr[i]\n",
        "\n",
        "\t\t# If arr[i] is in between first\n",
        "\t\t# and second then update second\n",
        "\t\telif (arr[i] > second):\n",
        "\t\t\tsecond = arr[i]\n",
        "\n",
        "\tfor i in range(0, n):\n",
        "\t\tif (arr[i] < second):\n",
        "\t\t\tprint(arr[i], end =\" \")\n",
        "\n",
        "\n",
        "# Driver code\n",
        "arr = [2, -6, 3, 5, 1]\n",
        "n = len(arr)\n",
        "findElements(arr, n)\n",
        "\n",
        "# This code is contributed\n",
        "# by Smitha Dinesh Semwal\n",
        "\n",
        "\n",
        "\n"
      ],
      "metadata": {
        "colab": {
          "base_uri": "https://localhost:8080/"
        },
        "id": "e8_vnbmSFmNy",
        "outputId": "95a2beb6-cfcf-4749-c20e-65a8018ec7ed"
      },
      "execution_count": null,
      "outputs": [
        {
          "output_type": "stream",
          "name": "stdout",
          "text": [
            "-6 1 2 "
          ]
        }
      ]
    },
    {
      "cell_type": "code",
      "execution_count": null,
      "metadata": {
        "id": "hfLpSXT5FlmW"
      },
      "outputs": [],
      "source": []
    }
  ]
}